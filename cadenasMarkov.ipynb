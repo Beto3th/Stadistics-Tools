{
 "cells": [
  {
   "cell_type": "code",
   "execution_count": 1,
   "metadata": {
    "vscode": {
     "languageId": "r"
    }
   },
   "outputs": [],
   "source": [
    "#install.packages(\"tidyr\")"
   ]
  },
  {
   "cell_type": "code",
   "execution_count": 2,
   "metadata": {
    "vscode": {
     "languageId": "r"
    }
   },
   "outputs": [],
   "source": [
    "library(ggplot2)\n",
    "library(tidyr)"
   ]
  },
  {
   "cell_type": "code",
   "execution_count": 3,
   "metadata": {
    "vscode": {
     "languageId": "r"
    }
   },
   "outputs": [],
   "source": [
    "matriz_transicion <- matrix(c(0.6,0.3,0.1,\n",
    "                            0.4,0.4,0.2,\n",
    "                            0.2,0.3,0.5),\n",
    "                            nrow=3, byrow=TRUE)"
   ]
  },
  {
   "cell_type": "code",
   "execution_count": 4,
   "metadata": {
    "vscode": {
     "languageId": "r"
    }
   },
   "outputs": [],
   "source": [
    "estados <- c(\"Soleado\", \"Nublado\", \"Lluvioso\")"
   ]
  },
  {
   "cell_type": "code",
   "execution_count": 5,
   "metadata": {
    "vscode": {
     "languageId": "r"
    }
   },
   "outputs": [
    {
     "name": "stdout",
     "output_type": "stream",
     "text": [
      "     [,1] [,2] [,3]\n",
      "[1,]  0.6  0.3  0.1\n",
      "[2,]  0.4  0.4  0.2\n",
      "[3,]  0.2  0.3  0.5\n"
     ]
    }
   ],
   "source": [
    "#Imprimir matriz de transicion\n",
    "print(matriz_transicion)"
   ]
  },
  {
   "cell_type": "code",
   "execution_count": 6,
   "metadata": {
    "vscode": {
     "languageId": "r"
    }
   },
   "outputs": [],
   "source": [
    "estado_inicial <- c(1,0,0) # 100% de probabilidad de soleado"
   ]
  },
  {
   "cell_type": "code",
   "execution_count": 7,
   "metadata": {
    "vscode": {
     "languageId": "r"
    }
   },
   "outputs": [],
   "source": [
    "# Dataframe para almacenar las probabilidades \n",
    "probabilidades <- data.frame(\n",
    "    Dia = 0:10,\n",
    "    Soleado = numeric(11), \n",
    "    Nublado = numeric(11),\n",
    "    Lluvioso = numeric(11)\n",
    ")"
   ]
  },
  {
   "cell_type": "code",
   "execution_count": 8,
   "metadata": {
    "vscode": {
     "languageId": "r"
    }
   },
   "outputs": [],
   "source": [
    "# Asignar probabilidades iniciales \n",
    "probabilidades [1, 2:4] <- estado_inicial"
   ]
  },
  {
   "cell_type": "code",
   "execution_count": 9,
   "metadata": {
    "vscode": {
     "languageId": "r"
    }
   },
   "outputs": [],
   "source": [
    "# Calcular la probabilidad del clima para los siguientes 10 dias \n",
    "for ( dia in 1:10) {\n",
    "    # Multiplicacion de matrices en R\n",
    "    estado_inicial <- estado_inicial %*% matriz_transicion\n",
    "    probabilidades[dia, 2:4] <- estado_inicial\n",
    "}"
   ]
  },
  {
   "cell_type": "code",
   "execution_count": 10,
   "metadata": {
    "vscode": {
     "languageId": "r"
    }
   },
   "outputs": [
    {
     "name": "stdout",
     "output_type": "stream",
     "text": [
      "   Dia   Soleado   Nublado  Lluvioso\n",
      "1    0 0.6000000 0.3000000 0.1000000\n",
      "2    1 0.5000000 0.3300000 0.1700000\n",
      "3    2 0.4660000 0.3330000 0.2010000\n",
      "4    3 0.4530000 0.3333000 0.2137000\n",
      "5    4 0.4478600 0.3333300 0.2188100\n",
      "6    5 0.4458100 0.3333330 0.2208570\n",
      "7    6 0.4449906 0.3333333 0.2216761\n",
      "8    7 0.4446629 0.3333333 0.2220038\n",
      "9    8 0.4445318 0.3333333 0.2221348\n",
      "10   9 0.4444794 0.3333333 0.2221873\n",
      "11  10 0.0000000 0.0000000 0.0000000\n"
     ]
    }
   ],
   "source": [
    "print(probabilidades)"
   ]
  },
  {
   "cell_type": "code",
   "execution_count": 11,
   "metadata": {
    "vscode": {
     "languageId": "r"
    }
   },
   "outputs": [],
   "source": [
    "# Convertir dataframe a formato largo\n",
    "probabilidades_2 <- pivot_longer(probabilidades, cols= -Dia, names_to = \"Estado\", values_to = \"Probabilidad\")"
   ]
  },
  {
   "cell_type": "code",
   "execution_count": 12,
   "metadata": {
    "vscode": {
     "languageId": "r"
    }
   },
   "outputs": [
    {
     "name": "stderr",
     "output_type": "stream",
     "text": [
      "Warning message:\n",
      "\"\u001b[1m\u001b[22mUsing `size` aesthetic for lines was deprecated in ggplot2 3.4.0.\n",
      "\u001b[36mℹ\u001b[39m Please use `linewidth` instead.\"\n"
     ]
    },
    {
     "data": {
      "image/png": "[encoded data removed]",
      "text/plain": [
       "plot without title"
      ]
     },
     "metadata": {
      "image/png": {
       "height": 420,
       "width": 420
      }
     },
     "output_type": "display_data"
    }
   ],
   "source": [
    "# Crear la gráfica\n",
    "ggplot(data = probabilidades_2, aes(x=Dia, y=Probabilidad, color= Estado)) + \n",
    "geom_line(size = 1) + \n",
    "geom_point(size = 1) + \n",
    "labs(title = \" Evolucion de las probabilidades en una cadena de Markov\",\n",
    "x = \"Dia\",\n",
    "y= \"Probabilidad\", \n",
    "color = \" Estado\")"
   ]
  },
  {
   "cell_type": "markdown",
   "metadata": {},
   "source": [
    "### Ejercicio \n",
    "* Si hoy estas \"Saludable\", hay un 70% de probabilidad de permanecer \"Saludable\", un 20% de probabilidad de enfermarse y un 10% de probabilidad de recuperarse ( lo cual es una simplificación para el propósito del ejemplo).\n",
    "* Si hoy estas 'Enfermo', hay un 30% de probabilidad de recuperar la salud, un 40% de probabilidad de permanecer enfermo y un 30% de probabilidad de recuperarse.\n",
    "* Si hoy estas 'Recuperado', hay un 60% de probabilidad de permanecer recuperado, un 30% de probabilidad de enfermarse nuevamente y un 10% de probabilidad de recuperar la salud \n"
   ]
  },
  {
   "cell_type": "code",
   "execution_count": 24,
   "metadata": {
    "vscode": {
     "languageId": "r"
    }
   },
   "outputs": [],
   "source": [
    "matriz_transicion <- matrix(c(0.7,0.2,0.1,\n",
    "                            0.3,0.4,0.3,\n",
    "                            0.1,0.3,0.6),\n",
    "                            nrow=3, byrow=TRUE)"
   ]
  },
  {
   "cell_type": "code",
   "execution_count": 25,
   "metadata": {
    "vscode": {
     "languageId": "r"
    }
   },
   "outputs": [],
   "source": [
    "estados <- c(\"Saludable\", \"Enfermar\", \"Recuperarse\")"
   ]
  },
  {
   "cell_type": "code",
   "execution_count": 26,
   "metadata": {
    "vscode": {
     "languageId": "r"
    }
   },
   "outputs": [],
   "source": [
    "estado_inicial <- c(1,0,0) # 100% de probabilidad de soleado"
   ]
  },
  {
   "cell_type": "code",
   "execution_count": 27,
   "metadata": {
    "vscode": {
     "languageId": "r"
    }
   },
   "outputs": [],
   "source": [
    "# Dataframe para almacenar las probabilidades \n",
    "probabilidades <- data.frame(\n",
    "    Dia = 0:10,\n",
    "    Saludable = numeric(11), \n",
    "    Enfermar = numeric(11),\n",
    "    Recuperarse = numeric(11)\n",
    ")"
   ]
  },
  {
   "cell_type": "code",
   "execution_count": 28,
   "metadata": {
    "vscode": {
     "languageId": "r"
    }
   },
   "outputs": [],
   "source": [
    "# Asignar probabilidades iniciales \n",
    "probabilidades [1, 2:4] <- estado_inicial"
   ]
  },
  {
   "cell_type": "code",
   "execution_count": 29,
   "metadata": {
    "vscode": {
     "languageId": "r"
    }
   },
   "outputs": [],
   "source": [
    "# Calcular la probabilidad del clima para los siguientes 10 dias \n",
    "for ( dia in 1:10) {\n",
    "    # Multiplicacion de matrices en R\n",
    "    estado_inicial <- estado_inicial %*% matriz_transicion\n",
    "    probabilidades[dia + 1, 2:4] <- estado_inicial\n",
    "}"
   ]
  },
  {
   "cell_type": "code",
   "execution_count": 30,
   "metadata": {
    "vscode": {
     "languageId": "r"
    }
   },
   "outputs": [
    {
     "name": "stdout",
     "output_type": "stream",
     "text": [
      "   Dia Saludable  Enfermar Recuperarse\n",
      "1    0 1.0000000 0.0000000   0.0000000\n",
      "2    1 0.7000000 0.2000000   0.1000000\n",
      "3    2 0.5600000 0.2500000   0.1900000\n",
      "4    3 0.4860000 0.2690000   0.2450000\n",
      "5    4 0.4454000 0.2783000   0.2763000\n",
      "6    5 0.4229000 0.2832900   0.2938100\n",
      "7    6 0.4103980 0.2860390   0.3035630\n",
      "8    7 0.4034466 0.2875641   0.3089893\n",
      "9    8 0.3995808 0.2884117   0.3120075\n",
      "10   9 0.3974308 0.2888831   0.3136861\n",
      "11  10 0.3962351 0.2891452   0.3146197\n"
     ]
    }
   ],
   "source": [
    "print(probabilidades)"
   ]
  },
  {
   "cell_type": "code",
   "execution_count": 31,
   "metadata": {
    "vscode": {
     "languageId": "r"
    }
   },
   "outputs": [],
   "source": [
    "# Convertir dataframe a formato largo\n",
    "probabilidades_2 <- pivot_longer(probabilidades, cols= -Dia, names_to = \"Estado\", values_to = \"Probabilidad\")"
   ]
  },
  {
   "cell_type": "code",
   "execution_count": 32,
   "metadata": {
    "vscode": {
     "languageId": "r"
    }
   },
   "outputs": [
    {
     "data": {
      "image/png": "[encoded data removed]",
      "text/plain": [
       "plot without title"
      ]
     },
     "metadata": {
      "image/png": {
       "height": 420,
       "width": 420
      }
     },
     "output_type": "display_data"
    }
   ],
   "source": [
    "# Crear la gráfica\n",
    "ggplot(data = probabilidades_2, aes(x=Dia, y=Probabilidad, color= Estado)) + \n",
    "geom_line(size = 1) + \n",
    "geom_point(size = 1) + \n",
    "labs(title = \" Evolucion de las probabilidades en una cadena de Markov\",\n",
    "x = \"Dia\",\n",
    "y= \"Probabilidad\", \n",
    "color = \" Estado\")"
   ]
  },
  {
   "cell_type": "code",
   "execution_count": null,
   "metadata": {
    "vscode": {
     "languageId": "r"
    }
   },
   "outputs": [],
   "source": []
  }
 ],
 "metadata": {
  "kernelspec": {
   "display_name": "R",
   "language": "R",
   "name": "ir"
  },
  "language_info": {
   "codemirror_mode": "r",
   "file_extension": ".r",
   "mimetype": "text/x-r-source",
   "name": "R",
   "pygments_lexer": "r",
   "version": "4.4.0"
  }
 },
 "nbformat": 4,
 "nbformat_minor": 2
}
