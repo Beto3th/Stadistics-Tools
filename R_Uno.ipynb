{
 "cells": [
  {
   "cell_type": "markdown",
   "id": "539406f4",
   "metadata": {},
   "source": [
    "## Primer programa en lenguaje R"
   ]
  },
  {
   "cell_type": "code",
   "execution_count": 2,
   "id": "026140f0-a73e-44c3-9c3a-a359ac37f8d2",
   "metadata": {
    "vscode": {
     "languageId": "r"
    }
   },
   "outputs": [],
   "source": [
    "x <- 10\n",
    "y <- 5"
   ]
  },
  {
   "cell_type": "code",
   "execution_count": 3,
   "id": "49347f0c",
   "metadata": {
    "vscode": {
     "languageId": "r"
    }
   },
   "outputs": [
    {
     "name": "stdout",
     "output_type": "stream",
     "text": [
      "[1] 10\n"
     ]
    }
   ],
   "source": [
    "print(x)"
   ]
  },
  {
   "cell_type": "code",
   "execution_count": 4,
   "id": "ac79f29b",
   "metadata": {
    "vscode": {
     "languageId": "r"
    }
   },
   "outputs": [],
   "source": [
    "suma <- x+y\n",
    "resta <- x-y\n",
    "multiplicacion <- x*y\n",
    "division <- x / y\n",
    "modulo <- x %% y "
   ]
  },
  {
   "cell_type": "code",
   "execution_count": 5,
   "id": "e9416a7f",
   "metadata": {
    "vscode": {
     "languageId": "r"
    }
   },
   "outputs": [
    {
     "name": "stdout",
     "output_type": "stream",
     "text": [
      "[1] 15\n",
      "[1] 5\n",
      "[1] 50\n",
      "[1] 2\n",
      "[1] 0\n"
     ]
    }
   ],
   "source": [
    "print(suma)\n",
    "print(resta)\n",
    "print(multiplicacion)\n",
    "print(division)\n",
    "print(modulo)"
   ]
  },
  {
   "cell_type": "code",
   "execution_count": 6,
   "id": "21f57b14",
   "metadata": {
    "vscode": {
     "languageId": "r"
    }
   },
   "outputs": [],
   "source": [
    "entero <- 3\n",
    "flotante <- 5.3"
   ]
  },
  {
   "cell_type": "code",
   "execution_count": 7,
   "id": "addd2b21",
   "metadata": {
    "vscode": {
     "languageId": "r"
    }
   },
   "outputs": [],
   "source": [
    "texto <- \"Hola mundo\""
   ]
  },
  {
   "cell_type": "code",
   "execution_count": 8,
   "id": "25ef26b0",
   "metadata": {
    "vscode": {
     "languageId": "r"
    }
   },
   "outputs": [],
   "source": [
    "var_logica = TRUE"
   ]
  },
  {
   "cell_type": "code",
   "execution_count": 9,
   "id": "d538d108",
   "metadata": {
    "vscode": {
     "languageId": "r"
    }
   },
   "outputs": [],
   "source": [
    "var_logica = FALSE"
   ]
  },
  {
   "cell_type": "code",
   "execution_count": 10,
   "id": "0d26b615",
   "metadata": {
    "vscode": {
     "languageId": "r"
    }
   },
   "outputs": [],
   "source": [
    "arreglo <- c(1, 2, 3, 4, 5)"
   ]
  },
  {
   "cell_type": "code",
   "execution_count": 11,
   "id": "7244e43c",
   "metadata": {
    "vscode": {
     "languageId": "r"
    }
   },
   "outputs": [
    {
     "data": {
      "text/html": [
       "<style>\n",
       ".list-inline {list-style: none; margin:0; padding: 0}\n",
       ".list-inline>li {display: inline-block}\n",
       ".list-inline>li:not(:last-child)::after {content: \"\\00b7\"; padding: 0 .5ex}\n",
       "</style>\n",
       "<ol class=list-inline><li>1</li><li>2</li><li>3</li><li>4</li><li>5</li></ol>\n"
      ],
      "text/latex": [
       "\\begin{enumerate*}\n",
       "\\item 1\n",
       "\\item 2\n",
       "\\item 3\n",
       "\\item 4\n",
       "\\item 5\n",
       "\\end{enumerate*}\n"
      ],
      "text/markdown": [
       "1. 1\n",
       "2. 2\n",
       "3. 3\n",
       "4. 4\n",
       "5. 5\n",
       "\n",
       "\n"
      ],
      "text/plain": [
       "[1] 1 2 3 4 5"
      ]
     },
     "metadata": {},
     "output_type": "display_data"
    }
   ],
   "source": [
    "arreglo"
   ]
  },
  {
   "cell_type": "code",
   "execution_count": 12,
   "id": "a373b04b",
   "metadata": {
    "vscode": {
     "languageId": "r"
    }
   },
   "outputs": [],
   "source": [
    "matriz <- matrix(c(1,2,3,4), nrow=2, ncol=2)"
   ]
  },
  {
   "cell_type": "code",
   "execution_count": 13,
   "id": "9549b9e5",
   "metadata": {
    "vscode": {
     "languageId": "r"
    }
   },
   "outputs": [
    {
     "data": {
      "text/html": [
       "<table class=\"dataframe\">\n",
       "<caption>A matrix: 2 × 2 of type dbl</caption>\n",
       "<tbody>\n",
       "\t<tr><td>1</td><td>3</td></tr>\n",
       "\t<tr><td>2</td><td>4</td></tr>\n",
       "</tbody>\n",
       "</table>\n"
      ],
      "text/latex": [
       "A matrix: 2 × 2 of type dbl\n",
       "\\begin{tabular}{ll}\n",
       "\t 1 & 3\\\\\n",
       "\t 2 & 4\\\\\n",
       "\\end{tabular}\n"
      ],
      "text/markdown": [
       "\n",
       "A matrix: 2 × 2 of type dbl\n",
       "\n",
       "| 1 | 3 |\n",
       "| 2 | 4 |\n",
       "\n"
      ],
      "text/plain": [
       "     [,1] [,2]\n",
       "[1,] 1    3   \n",
       "[2,] 2    4   "
      ]
     },
     "metadata": {},
     "output_type": "display_data"
    }
   ],
   "source": [
    "matriz"
   ]
  },
  {
   "cell_type": "code",
   "execution_count": 14,
   "id": "f64eceac",
   "metadata": {
    "vscode": {
     "languageId": "r"
    }
   },
   "outputs": [
    {
     "name": "stdout",
     "output_type": "stream",
     "text": [
      "     [,1] [,2]\n",
      "[1,]    1    3\n",
      "[2,]    2    4\n"
     ]
    }
   ],
   "source": [
    "print(matriz)"
   ]
  },
  {
   "cell_type": "code",
   "execution_count": 15,
   "id": "94d2a867",
   "metadata": {
    "vscode": {
     "languageId": "r"
    }
   },
   "outputs": [],
   "source": [
    "lista <- list(1,2,3,4,5)"
   ]
  },
  {
   "cell_type": "code",
   "execution_count": 16,
   "id": "1029fe5b",
   "metadata": {
    "vscode": {
     "languageId": "r"
    }
   },
   "outputs": [
    {
     "data": {
      "text/html": [
       "<ol>\n",
       "\t<li>1</li>\n",
       "\t<li>2</li>\n",
       "\t<li>3</li>\n",
       "\t<li>4</li>\n",
       "\t<li>5</li>\n",
       "</ol>\n"
      ],
      "text/latex": [
       "\\begin{enumerate}\n",
       "\\item 1\n",
       "\\item 2\n",
       "\\item 3\n",
       "\\item 4\n",
       "\\item 5\n",
       "\\end{enumerate}\n"
      ],
      "text/markdown": [
       "1. 1\n",
       "2. 2\n",
       "3. 3\n",
       "4. 4\n",
       "5. 5\n",
       "\n",
       "\n"
      ],
      "text/plain": [
       "[[1]]\n",
       "[1] 1\n",
       "\n",
       "[[2]]\n",
       "[1] 2\n",
       "\n",
       "[[3]]\n",
       "[1] 3\n",
       "\n",
       "[[4]]\n",
       "[1] 4\n",
       "\n",
       "[[5]]\n",
       "[1] 5\n"
      ]
     },
     "metadata": {},
     "output_type": "display_data"
    }
   ],
   "source": [
    "lista"
   ]
  },
  {
   "cell_type": "code",
   "execution_count": 17,
   "id": "e91a93e5",
   "metadata": {
    "vscode": {
     "languageId": "r"
    }
   },
   "outputs": [],
   "source": [
    "vocales <- list(\"a\", \"e\", \"i\", \"o\", \"u\")"
   ]
  },
  {
   "cell_type": "code",
   "execution_count": 18,
   "id": "87517a9c",
   "metadata": {
    "vscode": {
     "languageId": "r"
    }
   },
   "outputs": [
    {
     "data": {
      "text/html": [
       "<ol>\n",
       "\t<li>'a'</li>\n",
       "\t<li>'e'</li>\n",
       "\t<li>'i'</li>\n",
       "\t<li>'o'</li>\n",
       "\t<li>'u'</li>\n",
       "</ol>\n"
      ],
      "text/latex": [
       "\\begin{enumerate}\n",
       "\\item 'a'\n",
       "\\item 'e'\n",
       "\\item 'i'\n",
       "\\item 'o'\n",
       "\\item 'u'\n",
       "\\end{enumerate}\n"
      ],
      "text/markdown": [
       "1. 'a'\n",
       "2. 'e'\n",
       "3. 'i'\n",
       "4. 'o'\n",
       "5. 'u'\n",
       "\n",
       "\n"
      ],
      "text/plain": [
       "[[1]]\n",
       "[1] \"a\"\n",
       "\n",
       "[[2]]\n",
       "[1] \"e\"\n",
       "\n",
       "[[3]]\n",
       "[1] \"i\"\n",
       "\n",
       "[[4]]\n",
       "[1] \"o\"\n",
       "\n",
       "[[5]]\n",
       "[1] \"u\"\n"
      ]
     },
     "metadata": {},
     "output_type": "display_data"
    }
   ],
   "source": [
    "vocales"
   ]
  },
  {
   "cell_type": "code",
   "execution_count": 21,
   "id": "c2e5f9fe",
   "metadata": {
    "vscode": {
     "languageId": "r"
    }
   },
   "outputs": [],
   "source": [
    "data_frame <- data.frame(\n",
    "    Nombre = c(\"Refugio\", \"Angel\", \"Raymundo\", \"Grecia\"),\n",
    "    Edad = c(18,19,11,20),\n",
    "    Calificacion = c(7,8,10,10)\n",
    ")"
   ]
  },
  {
   "cell_type": "code",
   "execution_count": 22,
   "id": "08347359",
   "metadata": {
    "vscode": {
     "languageId": "r"
    }
   },
   "outputs": [
    {
     "data": {
      "text/html": [
       "<table class=\"dataframe\">\n",
       "<caption>A data.frame: 4 × 3</caption>\n",
       "<thead>\n",
       "\t<tr><th scope=col>Nombre</th><th scope=col>Edad</th><th scope=col>Calificacion</th></tr>\n",
       "\t<tr><th scope=col>&lt;chr&gt;</th><th scope=col>&lt;dbl&gt;</th><th scope=col>&lt;dbl&gt;</th></tr>\n",
       "</thead>\n",
       "<tbody>\n",
       "\t<tr><td>Refugio </td><td>18</td><td> 7</td></tr>\n",
       "\t<tr><td>Angel   </td><td>19</td><td> 8</td></tr>\n",
       "\t<tr><td>Raymundo</td><td>11</td><td>10</td></tr>\n",
       "\t<tr><td>Grecia  </td><td>20</td><td>10</td></tr>\n",
       "</tbody>\n",
       "</table>\n"
      ],
      "text/latex": [
       "A data.frame: 4 × 3\n",
       "\\begin{tabular}{lll}\n",
       " Nombre & Edad & Calificacion\\\\\n",
       " <chr> & <dbl> & <dbl>\\\\\n",
       "\\hline\n",
       "\t Refugio  & 18 &  7\\\\\n",
       "\t Angel    & 19 &  8\\\\\n",
       "\t Raymundo & 11 & 10\\\\\n",
       "\t Grecia   & 20 & 10\\\\\n",
       "\\end{tabular}\n"
      ],
      "text/markdown": [
       "\n",
       "A data.frame: 4 × 3\n",
       "\n",
       "| Nombre &lt;chr&gt; | Edad &lt;dbl&gt; | Calificacion &lt;dbl&gt; |\n",
       "|---|---|---|\n",
       "| Refugio  | 18 |  7 |\n",
       "| Angel    | 19 |  8 |\n",
       "| Raymundo | 11 | 10 |\n",
       "| Grecia   | 20 | 10 |\n",
       "\n"
      ],
      "text/plain": [
       "  Nombre   Edad Calificacion\n",
       "1 Refugio  18    7          \n",
       "2 Angel    19    8          \n",
       "3 Raymundo 11   10          \n",
       "4 Grecia   20   10          "
      ]
     },
     "metadata": {},
     "output_type": "display_data"
    }
   ],
   "source": [
    "data_frame"
   ]
  },
  {
   "cell_type": "code",
   "execution_count": 23,
   "id": "ea2075a7",
   "metadata": {
    "vscode": {
     "languageId": "r"
    }
   },
   "outputs": [],
   "source": [
    "resultado_suma = sum(arreglo)"
   ]
  },
  {
   "cell_type": "code",
   "execution_count": 24,
   "id": "bbbdda84",
   "metadata": {
    "vscode": {
     "languageId": "r"
    }
   },
   "outputs": [
    {
     "data": {
      "text/html": [
       "15"
      ],
      "text/latex": [
       "15"
      ],
      "text/markdown": [
       "15"
      ],
      "text/plain": [
       "[1] 15"
      ]
     },
     "metadata": {},
     "output_type": "display_data"
    }
   ],
   "source": [
    "resultado_suma"
   ]
  },
  {
   "cell_type": "code",
   "execution_count": 25,
   "id": "51824256",
   "metadata": {
    "vscode": {
     "languageId": "r"
    }
   },
   "outputs": [],
   "source": [
    "suma_dos_numeros <- function(a,b){\n",
    "    resultado = a+b\n",
    "    return(resultado)\n",
    "}"
   ]
  },
  {
   "cell_type": "code",
   "execution_count": 26,
   "id": "f76b9aa2",
   "metadata": {
    "vscode": {
     "languageId": "r"
    }
   },
   "outputs": [
    {
     "name": "stdout",
     "output_type": "stream",
     "text": [
      "[1] 7\n"
     ]
    }
   ],
   "source": [
    "resultado_suma_dos_numeros = suma_dos_numeros(3,4)\n",
    "print(resultado_suma_dos_numeros)"
   ]
  },
  {
   "cell_type": "markdown",
   "id": "c3a0d2cd",
   "metadata": {},
   "source": [
    "### Lectura de datos en archivo CSV"
   ]
  },
  {
   "cell_type": "code",
   "execution_count": null,
   "id": "c4366884",
   "metadata": {
    "vscode": {
     "languageId": "r"
    }
   },
   "outputs": [],
   "source": []
  }
 ],
 "metadata": {
  "kernelspec": {
   "display_name": "R",
   "language": "R",
   "name": "ir"
  },
  "language_info": {
   "codemirror_mode": "r",
   "file_extension": ".r",
   "mimetype": "text/x-r-source",
   "name": "R",
   "pygments_lexer": "r",
   "version": "4.3.1"
  }
 },
 "nbformat": 4,
 "nbformat_minor": 5
}
