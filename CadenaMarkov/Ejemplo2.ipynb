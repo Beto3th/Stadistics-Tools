{
 "cells": [
  {
   "cell_type": "code",
   "execution_count": 1,
   "metadata": {},
   "outputs": [],
   "source": [
    "import numpy as np \n",
    "import random "
   ]
  },
  {
   "cell_type": "code",
   "execution_count": 2,
   "metadata": {},
   "outputs": [],
   "source": [
    "def obtener_transiciones(texto):\n",
    "    palabras = texto.split() # Dividir palabras en una lista\n",
    "    transiciones = {}\n",
    "\n",
    "    for palabra in range(len(palabras) - 1):\n",
    "        # Iterar todas las palabras excepto la ultima\n",
    "        if palabras[palabra] not in transiciones:\n",
    "            # Crear una entrada con una lista vacía \n",
    "            transiciones[palabras[palabra]] = []\n",
    "        # Añadir la palabra siguiente en lass transiciones\n",
    "        transiciones[palabras[palabra]].append(palabras[palabra + 1])\n",
    "    # Regresar el diccionario de transiciones \n",
    "    return transiciones"
   ]
  },
  {
   "cell_type": "code",
   "execution_count": 3,
   "metadata": {},
   "outputs": [],
   "source": [
    "def generar_text(transiciones, inicio, longitud=50):\n",
    "    # Definir la plabra inicial del texto \n",
    "    palabra_actual = inicio\n",
    "    resultado = [palabra_actual]\n",
    "\n",
    "    for _ in range(longitud -1):\n",
    "        if palabra_actual in transiciones:\n",
    "            palabra_actual = random.choice(transiciones[palabra_actual])\n",
    "            resultado.append(palabra_actual)\n",
    "        else:\n",
    "            break\n",
    "\n",
    "    return ''.join(resultado) # Regrea¿sa los elementos de una una lista en una frase de texto"
   ]
  },
  {
   "cell_type": "code",
   "execution_count": null,
   "metadata": {},
   "outputs": [],
   "source": [
    "def obtener_matriz_transiciones(texto):\n",
    "    # Dividir texto en palabras \n",
    "    palabras = texto.split()\n",
    "    # Lista de palabras únicas\n",
    "    palabras_unicas = list(set(palabras))\n",
    "    #Obtener la longitud de palabras únicas \n",
    "    n = len(palabras_unicas)\n",
    "\n",
    "    # Crear un diccionario para mapear palabras a índices \n",
    "    palabra_a_indice = {\n",
    "        palabra: idx for idx, palabra in enumerate(palabras_unicas)\n",
    "    }\n",
    "\n",
    "    #Crear un diccionario invrso para mapear índices a palabras\n",
    "    indice_a_palabra = {\n",
    "        idx: palabra for palabra, idx in palabra_a_indice.item()\n",
    "    }\n",
    "\n",
    "    # Inicializar la matriz de transiciones \n",
    "    matriz_transiciones = np.zeros(n, n)\n",
    "\n",
    "    # Rellenar la matriz de transiciones con las probabilidades\n",
    "    for i in range(n - 1):\n",
    "        palabra_actual= palabras_unicas[i]\n",
    "        palabra_siguiente = palabras[i+1]\n",
    "        matriz_transiciones[palabra_a_indice[palabra_actual]][palabra_a_indice][palabra_siguiente] += 1 "
   ]
  }
 ],
 "metadata": {
  "kernelspec": {
   "display_name": "Python 3",
   "language": "python",
   "name": "python3"
  },
  "language_info": {
   "codemirror_mode": {
    "name": "ipython",
    "version": 3
   },
   "file_extension": ".py",
   "mimetype": "text/x-python",
   "name": "python",
   "nbconvert_exporter": "python",
   "pygments_lexer": "ipython3",
   "version": "3.11.0"
  }
 },
 "nbformat": 4,
 "nbformat_minor": 2
}
