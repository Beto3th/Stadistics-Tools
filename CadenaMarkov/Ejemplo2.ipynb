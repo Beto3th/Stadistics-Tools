{
 "cells": [
  {
   "cell_type": "code",
   "execution_count": 36,
   "metadata": {},
   "outputs": [],
   "source": [
    "import numpy as np \n",
    "import random "
   ]
  },
  {
   "cell_type": "code",
   "execution_count": 37,
   "metadata": {},
   "outputs": [],
   "source": [
    "def obtener_transiciones(texto):\n",
    "    palabras = texto.split() # Dividir palabras en una lista\n",
    "    transiciones = {}\n",
    "\n",
    "    for palabra in range(len(palabras) - 1):\n",
    "        # Iterar todas las palabras excepto la ultima\n",
    "        if palabras[palabra] not in transiciones:\n",
    "            # Crear una entrada con una lista vacía \n",
    "            transiciones[palabras[palabra]] = []\n",
    "        # Añadir la palabra siguiente en lass transiciones\n",
    "        transiciones[palabras[palabra]].append(palabras[palabra + 1])\n",
    "    # Regresar el diccionario de transiciones \n",
    "    return transiciones"
   ]
  },
  {
   "cell_type": "code",
   "execution_count": 38,
   "metadata": {},
   "outputs": [],
   "source": [
    "def generar_text(transiciones, inicio, longitud=50):\n",
    "    # Definir la plabra inicial del texto \n",
    "    palabra_actual = inicio\n",
    "    resultado = [palabra_actual]\n",
    "\n",
    "    for _ in range(longitud -1):\n",
    "        if palabra_actual in transiciones:\n",
    "            palabra_actual = random.choice(transiciones[palabra_actual])\n",
    "            resultado.append(palabra_actual)\n",
    "        else:\n",
    "            break\n",
    "\n",
    "    return ' '.join(resultado) # Regrea¿sa los elementos de una una lista en una frase de texto"
   ]
  },
  {
   "cell_type": "code",
   "execution_count": 39,
   "metadata": {},
   "outputs": [],
   "source": [
    "def obtener_matriz_transiciones(texto):\n",
    "    # Dividir texto en palabras \n",
    "    palabras = texto.split()\n",
    "    # Lista de palabras únicas\n",
    "    palabras_unicas = list(set(palabras))\n",
    "    #Obtener la longitud de palabras únicas \n",
    "    n = len(palabras_unicas)\n",
    "\n",
    "    # Crear un diccionario para mapear palabras a índices \n",
    "    palabra_a_indice = {\n",
    "        palabra: idx for idx, palabra in enumerate(palabras_unicas)\n",
    "    }\n",
    "\n",
    "    #Crear un diccionario invrso para mapear índices a palabras\n",
    "    indice_a_palabra = {\n",
    "        idx: palabra for palabra, idx in palabra_a_indice.items()\n",
    "    }\n",
    "\n",
    "    # Inicializar la matriz de transiciones \n",
    "    matriz_transiciones = np.zeros((n, n))\n",
    "\n",
    "    # Rellenar la matriz de transiciones con las probabilidades\n",
    "    for i in range(len(palabras) - 1):\n",
    "        palabra_actual= palabras[i]\n",
    "        palabra_siguiente = palabras[i+1]\n",
    "        matriz_transiciones[palabra_a_indice[palabra_actual]][palabra_a_indice[palabra_siguiente]] += 1 \n",
    "\n",
    "    # Convertir el conteo a probabilidades\n",
    "    for i in range(n):\n",
    "        total = np.sum(matriz_transiciones[i]) # Sumar el conteo por fila \n",
    "        # Reviar si hay al menos una transicion \n",
    "        if total > 0:\n",
    "            matriz_transiciones[i] = matriz_transiciones[i] / total\n",
    "    \n",
    "    return matriz_transiciones, palabra_a_indice, indice_a_palabra"
   ]
  },
  {
   "cell_type": "code",
   "execution_count": 40,
   "metadata": {},
   "outputs": [],
   "source": [
    "texto = \"Este es un texto de ejemplo para generar otro texto con cadenas de Markov\""
   ]
  },
  {
   "cell_type": "code",
   "execution_count": 41,
   "metadata": {},
   "outputs": [],
   "source": [
    "transiciones = obtener_transiciones(texto)"
   ]
  },
  {
   "cell_type": "code",
   "execution_count": 42,
   "metadata": {},
   "outputs": [
    {
     "data": {
      "text/plain": [
       "{'Este': ['es'],\n",
       " 'es': ['un'],\n",
       " 'un': ['texto'],\n",
       " 'texto': ['de', 'con'],\n",
       " 'de': ['ejemplo', 'Markov'],\n",
       " 'ejemplo': ['para'],\n",
       " 'para': ['generar'],\n",
       " 'generar': ['otro'],\n",
       " 'otro': ['texto'],\n",
       " 'con': ['cadenas'],\n",
       " 'cadenas': ['de']}"
      ]
     },
     "execution_count": 42,
     "metadata": {},
     "output_type": "execute_result"
    }
   ],
   "source": [
    "transiciones"
   ]
  },
  {
   "cell_type": "code",
   "execution_count": 43,
   "metadata": {},
   "outputs": [],
   "source": [
    "texto_generado = generar_text(transiciones, \"ejemplo\", longitud= 50)"
   ]
  },
  {
   "cell_type": "code",
   "execution_count": 44,
   "metadata": {},
   "outputs": [
    {
     "data": {
      "text/plain": [
       "'ejemplo para generar otro texto con cadenas de ejemplo para generar otro texto de Markov'"
      ]
     },
     "execution_count": 44,
     "metadata": {},
     "output_type": "execute_result"
    }
   ],
   "source": [
    "texto_generado"
   ]
  },
  {
   "cell_type": "code",
   "execution_count": 45,
   "metadata": {},
   "outputs": [],
   "source": [
    "matriz_transiciones, palabra_a_indice, indice_a_palabra = obtener_matriz_transiciones(texto)"
   ]
  },
  {
   "cell_type": "code",
   "execution_count": 46,
   "metadata": {},
   "outputs": [
    {
     "data": {
      "text/plain": [
       "array([[0. , 0. , 0. , 0. , 0. , 1. , 0. , 0. , 0. , 0. , 0. , 0. ],\n",
       "       [0. , 0. , 0. , 0.5, 0. , 0. , 0. , 0. , 0. , 0. , 0. , 0.5],\n",
       "       [0. , 0. , 0. , 0. , 0. , 0. , 1. , 0. , 0. , 0. , 0. , 0. ],\n",
       "       [0. , 0. , 0. , 0. , 0.5, 0. , 0. , 0. , 0. , 0.5, 0. , 0. ],\n",
       "       [0. , 0. , 1. , 0. , 0. , 0. , 0. , 0. , 0. , 0. , 0. , 0. ],\n",
       "       [0. , 1. , 0. , 0. , 0. , 0. , 0. , 0. , 0. , 0. , 0. , 0. ],\n",
       "       [0. , 0. , 0. , 0. , 0. , 0. , 0. , 0. , 0. , 0. , 1. , 0. ],\n",
       "       [1. , 0. , 0. , 0. , 0. , 0. , 0. , 0. , 0. , 0. , 0. , 0. ],\n",
       "       [0. , 0. , 0. , 1. , 0. , 0. , 0. , 0. , 0. , 0. , 0. , 0. ],\n",
       "       [0. , 0. , 0. , 0. , 0. , 0. , 0. , 0. , 0. , 0. , 0. , 0. ],\n",
       "       [0. , 1. , 0. , 0. , 0. , 0. , 0. , 0. , 0. , 0. , 0. , 0. ],\n",
       "       [0. , 0. , 0. , 0. , 0. , 0. , 0. , 0. , 1. , 0. , 0. , 0. ]])"
      ]
     },
     "execution_count": 46,
     "metadata": {},
     "output_type": "execute_result"
    }
   ],
   "source": [
    "matriz_transiciones"
   ]
  },
  {
   "cell_type": "code",
   "execution_count": 47,
   "metadata": {},
   "outputs": [
    {
     "data": {
      "text/plain": [
       "{'es': 0,\n",
       " 'texto': 1,\n",
       " 'para': 2,\n",
       " 'de': 3,\n",
       " 'ejemplo': 4,\n",
       " 'un': 5,\n",
       " 'generar': 6,\n",
       " 'Este': 7,\n",
       " 'cadenas': 8,\n",
       " 'Markov': 9,\n",
       " 'otro': 10,\n",
       " 'con': 11}"
      ]
     },
     "execution_count": 47,
     "metadata": {},
     "output_type": "execute_result"
    }
   ],
   "source": [
    "palabra_a_indice"
   ]
  },
  {
   "cell_type": "code",
   "execution_count": 48,
   "metadata": {},
   "outputs": [
    {
     "data": {
      "text/plain": [
       "{0: 'es',\n",
       " 1: 'texto',\n",
       " 2: 'para',\n",
       " 3: 'de',\n",
       " 4: 'ejemplo',\n",
       " 5: 'un',\n",
       " 6: 'generar',\n",
       " 7: 'Este',\n",
       " 8: 'cadenas',\n",
       " 9: 'Markov',\n",
       " 10: 'otro',\n",
       " 11: 'con'}"
      ]
     },
     "execution_count": 48,
     "metadata": {},
     "output_type": "execute_result"
    }
   ],
   "source": [
    "indice_a_palabra"
   ]
  },
  {
   "cell_type": "code",
   "execution_count": null,
   "metadata": {},
   "outputs": [],
   "source": []
  }
 ],
 "metadata": {
  "kernelspec": {
   "display_name": "Python 3",
   "language": "python",
   "name": "python3"
  },
  "language_info": {
   "codemirror_mode": {
    "name": "ipython",
    "version": 3
   },
   "file_extension": ".py",
   "mimetype": "text/x-python",
   "name": "python",
   "nbconvert_exporter": "python",
   "pygments_lexer": "ipython3",
   "version": "3.11.0"
  }
 },
 "nbformat": 4,
 "nbformat_minor": 2
}
