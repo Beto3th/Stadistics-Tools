{
 "cells": [
  {
   "cell_type": "markdown",
   "id": "539406f4",
   "metadata": {},
   "source": [
    "## Primer programa en lenguaje R"
   ]
  },
  {
   "cell_type": "code",
   "execution_count": 2,
   "id": "026140f0-a73e-44c3-9c3a-a359ac37f8d2",
   "metadata": {
    "vscode": {
     "languageId": "r"
    }
   },
   "outputs": [],
   "source": [
    "x <- 10\n",
    "y <- 5"
   ]
  },
  {
   "cell_type": "code",
   "execution_count": 3,
   "id": "49347f0c",
   "metadata": {
    "vscode": {
     "languageId": "r"
    }
   },
   "outputs": [
    {
     "name": "stdout",
     "output_type": "stream",
     "text": [
      "[1] 10\n"
     ]
    }
   ],
   "source": [
    "print(x)"
   ]
  },
  {
   "cell_type": "code",
   "execution_count": 4,
   "id": "ac79f29b",
   "metadata": {
    "vscode": {
     "languageId": "r"
    }
   },
   "outputs": [],
   "source": [
    "suma <- x+y\n",
    "resta <- x-y\n",
    "multiplicacion <- x*y\n",
    "division <- x / y\n",
    "modulo <- x %% y "
   ]
  },
  {
   "cell_type": "code",
   "execution_count": 5,
   "id": "e9416a7f",
   "metadata": {
    "vscode": {
     "languageId": "r"
    }
   },
   "outputs": [
    {
     "name": "stdout",
     "output_type": "stream",
     "text": [
      "[1] 15\n",
      "[1] 5\n",
      "[1] 50\n",
      "[1] 2\n",
      "[1] 0\n"
     ]
    }
   ],
   "source": [
    "print(suma)\n",
    "print(resta)\n",
    "print(multiplicacion)\n",
    "print(division)\n",
    "print(modulo)"
   ]
  },
  {
   "cell_type": "code",
   "execution_count": 6,
   "id": "21f57b14",
   "metadata": {
    "vscode": {
     "languageId": "r"
    }
   },
   "outputs": [],
   "source": [
    "entero <- 3\n",
    "flotante <- 5.3"
   ]
  },
  {
   "cell_type": "code",
   "execution_count": 7,
   "id": "addd2b21",
   "metadata": {
    "vscode": {
     "languageId": "r"
    }
   },
   "outputs": [],
   "source": [
    "texto <- \"Hola mundo\""
   ]
  },
  {
   "cell_type": "code",
   "execution_count": 8,
   "id": "25ef26b0",
   "metadata": {
    "vscode": {
     "languageId": "r"
    }
   },
   "outputs": [],
   "source": [
    "var_logica = TRUE"
   ]
  },
  {
   "cell_type": "code",
   "execution_count": 9,
   "id": "d538d108",
   "metadata": {
    "vscode": {
     "languageId": "r"
    }
   },
   "outputs": [],
   "source": [
    "var_logica = FALSE"
   ]
  },
  {
   "cell_type": "code",
   "execution_count": 10,
   "id": "0d26b615",
   "metadata": {
    "vscode": {
     "languageId": "r"
    }
   },
   "outputs": [],
   "source": [
    "arreglo <- c(1, 2, 3, 4, 5)"
   ]
  },
  {
   "cell_type": "code",
   "execution_count": 11,
   "id": "7244e43c",
   "metadata": {
    "vscode": {
     "languageId": "r"
    }
   },
   "outputs": [
    {
     "data": {
      "text/html": [
       "<style>\n",
       ".list-inline {list-style: none; margin:0; padding: 0}\n",
       ".list-inline>li {display: inline-block}\n",
       ".list-inline>li:not(:last-child)::after {content: \"\\00b7\"; padding: 0 .5ex}\n",
       "</style>\n",
       "<ol class=list-inline><li>1</li><li>2</li><li>3</li><li>4</li><li>5</li></ol>\n"
      ],
      "text/latex": [
       "\\begin{enumerate*}\n",
       "\\item 1\n",
       "\\item 2\n",
       "\\item 3\n",
       "\\item 4\n",
       "\\item 5\n",
       "\\end{enumerate*}\n"
      ],
      "text/markdown": [
       "1. 1\n",
       "2. 2\n",
       "3. 3\n",
       "4. 4\n",
       "5. 5\n",
       "\n",
       "\n"
      ],
      "text/plain": [
       "[1] 1 2 3 4 5"
      ]
     },
     "metadata": {},
     "output_type": "display_data"
    }
   ],
   "source": [
    "arreglo"
   ]
  },
  {
   "cell_type": "code",
   "execution_count": 12,
   "id": "a373b04b",
   "metadata": {
    "vscode": {
     "languageId": "r"
    }
   },
   "outputs": [],
   "source": [
    "matriz <- matrix(c(1,2,3,4), nrow=2, ncol=2)"
   ]
  },
  {
   "cell_type": "code",
   "execution_count": 13,
   "id": "9549b9e5",
   "metadata": {
    "vscode": {
     "languageId": "r"
    }
   },
   "outputs": [
    {
     "data": {
      "text/html": [
       "<table class=\"dataframe\">\n",
       "<caption>A matrix: 2 × 2 of type dbl</caption>\n",
       "<tbody>\n",
       "\t<tr><td>1</td><td>3</td></tr>\n",
       "\t<tr><td>2</td><td>4</td></tr>\n",
       "</tbody>\n",
       "</table>\n"
      ],
      "text/latex": [
       "A matrix: 2 × 2 of type dbl\n",
       "\\begin{tabular}{ll}\n",
       "\t 1 & 3\\\\\n",
       "\t 2 & 4\\\\\n",
       "\\end{tabular}\n"
      ],
      "text/markdown": [
       "\n",
       "A matrix: 2 × 2 of type dbl\n",
       "\n",
       "| 1 | 3 |\n",
       "| 2 | 4 |\n",
       "\n"
      ],
      "text/plain": [
       "     [,1] [,2]\n",
       "[1,] 1    3   \n",
       "[2,] 2    4   "
      ]
     },
     "metadata": {},
     "output_type": "display_data"
    }
   ],
   "source": [
    "matriz"
   ]
  },
  {
   "cell_type": "code",
   "execution_count": 14,
   "id": "f64eceac",
   "metadata": {
    "vscode": {
     "languageId": "r"
    }
   },
   "outputs": [
    {
     "name": "stdout",
     "output_type": "stream",
     "text": [
      "     [,1] [,2]\n",
      "[1,]    1    3\n",
      "[2,]    2    4\n"
     ]
    }
   ],
   "source": [
    "print(matriz)"
   ]
  },
  {
   "cell_type": "code",
   "execution_count": 15,
   "id": "94d2a867",
   "metadata": {
    "vscode": {
     "languageId": "r"
    }
   },
   "outputs": [],
   "source": [
    "lista <- list(1,2,3,4,5)"
   ]
  },
  {
   "cell_type": "code",
   "execution_count": 16,
   "id": "1029fe5b",
   "metadata": {
    "vscode": {
     "languageId": "r"
    }
   },
   "outputs": [
    {
     "data": {
      "text/html": [
       "<ol>\n",
       "\t<li>1</li>\n",
       "\t<li>2</li>\n",
       "\t<li>3</li>\n",
       "\t<li>4</li>\n",
       "\t<li>5</li>\n",
       "</ol>\n"
      ],
      "text/latex": [
       "\\begin{enumerate}\n",
       "\\item 1\n",
       "\\item 2\n",
       "\\item 3\n",
       "\\item 4\n",
       "\\item 5\n",
       "\\end{enumerate}\n"
      ],
      "text/markdown": [
       "1. 1\n",
       "2. 2\n",
       "3. 3\n",
       "4. 4\n",
       "5. 5\n",
       "\n",
       "\n"
      ],
      "text/plain": [
       "[[1]]\n",
       "[1] 1\n",
       "\n",
       "[[2]]\n",
       "[1] 2\n",
       "\n",
       "[[3]]\n",
       "[1] 3\n",
       "\n",
       "[[4]]\n",
       "[1] 4\n",
       "\n",
       "[[5]]\n",
       "[1] 5\n"
      ]
     },
     "metadata": {},
     "output_type": "display_data"
    }
   ],
   "source": [
    "lista"
   ]
  },
  {
   "cell_type": "code",
   "execution_count": 17,
   "id": "e91a93e5",
   "metadata": {
    "vscode": {
     "languageId": "r"
    }
   },
   "outputs": [],
   "source": [
    "vocales <- list(\"a\", \"e\", \"i\", \"o\", \"u\")"
   ]
  },
  {
   "cell_type": "code",
   "execution_count": 18,
   "id": "87517a9c",
   "metadata": {
    "vscode": {
     "languageId": "r"
    }
   },
   "outputs": [
    {
     "data": {
      "text/html": [
       "<ol>\n",
       "\t<li>'a'</li>\n",
       "\t<li>'e'</li>\n",
       "\t<li>'i'</li>\n",
       "\t<li>'o'</li>\n",
       "\t<li>'u'</li>\n",
       "</ol>\n"
      ],
      "text/latex": [
       "\\begin{enumerate}\n",
       "\\item 'a'\n",
       "\\item 'e'\n",
       "\\item 'i'\n",
       "\\item 'o'\n",
       "\\item 'u'\n",
       "\\end{enumerate}\n"
      ],
      "text/markdown": [
       "1. 'a'\n",
       "2. 'e'\n",
       "3. 'i'\n",
       "4. 'o'\n",
       "5. 'u'\n",
       "\n",
       "\n"
      ],
      "text/plain": [
       "[[1]]\n",
       "[1] \"a\"\n",
       "\n",
       "[[2]]\n",
       "[1] \"e\"\n",
       "\n",
       "[[3]]\n",
       "[1] \"i\"\n",
       "\n",
       "[[4]]\n",
       "[1] \"o\"\n",
       "\n",
       "[[5]]\n",
       "[1] \"u\"\n"
      ]
     },
     "metadata": {},
     "output_type": "display_data"
    }
   ],
   "source": [
    "vocales"
   ]
  },
  {
   "cell_type": "code",
   "execution_count": 21,
   "id": "c2e5f9fe",
   "metadata": {
    "vscode": {
     "languageId": "r"
    }
   },
   "outputs": [],
   "source": [
    "data_frame <- data.frame(\n",
    "    Nombre = c(\"Refugio\", \"Angel\", \"Raymundo\", \"Grecia\"),\n",
    "    Edad = c(18,19,11,20),\n",
    "    Calificacion = c(7,8,10,10)\n",
    ")"
   ]
  },
  {
   "cell_type": "code",
   "execution_count": 22,
   "id": "08347359",
   "metadata": {
    "vscode": {
     "languageId": "r"
    }
   },
   "outputs": [
    {
     "data": {
      "text/html": [
       "<table class=\"dataframe\">\n",
       "<caption>A data.frame: 4 × 3</caption>\n",
       "<thead>\n",
       "\t<tr><th scope=col>Nombre</th><th scope=col>Edad</th><th scope=col>Calificacion</th></tr>\n",
       "\t<tr><th scope=col>&lt;chr&gt;</th><th scope=col>&lt;dbl&gt;</th><th scope=col>&lt;dbl&gt;</th></tr>\n",
       "</thead>\n",
       "<tbody>\n",
       "\t<tr><td>Refugio </td><td>18</td><td> 7</td></tr>\n",
       "\t<tr><td>Angel   </td><td>19</td><td> 8</td></tr>\n",
       "\t<tr><td>Raymundo</td><td>11</td><td>10</td></tr>\n",
       "\t<tr><td>Grecia  </td><td>20</td><td>10</td></tr>\n",
       "</tbody>\n",
       "</table>\n"
      ],
      "text/latex": [
       "A data.frame: 4 × 3\n",
       "\\begin{tabular}{lll}\n",
       " Nombre & Edad & Calificacion\\\\\n",
       " <chr> & <dbl> & <dbl>\\\\\n",
       "\\hline\n",
       "\t Refugio  & 18 &  7\\\\\n",
       "\t Angel    & 19 &  8\\\\\n",
       "\t Raymundo & 11 & 10\\\\\n",
       "\t Grecia   & 20 & 10\\\\\n",
       "\\end{tabular}\n"
      ],
      "text/markdown": [
       "\n",
       "A data.frame: 4 × 3\n",
       "\n",
       "| Nombre &lt;chr&gt; | Edad &lt;dbl&gt; | Calificacion &lt;dbl&gt; |\n",
       "|---|---|---|\n",
       "| Refugio  | 18 |  7 |\n",
       "| Angel    | 19 |  8 |\n",
       "| Raymundo | 11 | 10 |\n",
       "| Grecia   | 20 | 10 |\n",
       "\n"
      ],
      "text/plain": [
       "  Nombre   Edad Calificacion\n",
       "1 Refugio  18    7          \n",
       "2 Angel    19    8          \n",
       "3 Raymundo 11   10          \n",
       "4 Grecia   20   10          "
      ]
     },
     "metadata": {},
     "output_type": "display_data"
    }
   ],
   "source": [
    "data_frame"
   ]
  },
  {
   "cell_type": "code",
   "execution_count": 23,
   "id": "ea2075a7",
   "metadata": {
    "vscode": {
     "languageId": "r"
    }
   },
   "outputs": [],
   "source": [
    "resultado_suma = sum(arreglo)"
   ]
  },
  {
   "cell_type": "code",
   "execution_count": 24,
   "id": "bbbdda84",
   "metadata": {
    "vscode": {
     "languageId": "r"
    }
   },
   "outputs": [
    {
     "data": {
      "text/html": [
       "15"
      ],
      "text/latex": [
       "15"
      ],
      "text/markdown": [
       "15"
      ],
      "text/plain": [
       "[1] 15"
      ]
     },
     "metadata": {},
     "output_type": "display_data"
    }
   ],
   "source": [
    "resultado_suma"
   ]
  },
  {
   "cell_type": "code",
   "execution_count": 25,
   "id": "51824256",
   "metadata": {
    "vscode": {
     "languageId": "r"
    }
   },
   "outputs": [],
   "source": [
    "suma_dos_numeros <- function(a,b){\n",
    "    resultado = a+b\n",
    "    return(resultado)\n",
    "}"
   ]
  },
  {
   "cell_type": "code",
   "execution_count": 26,
   "id": "f76b9aa2",
   "metadata": {
    "vscode": {
     "languageId": "r"
    }
   },
   "outputs": [
    {
     "name": "stdout",
     "output_type": "stream",
     "text": [
      "[1] 7\n"
     ]
    }
   ],
   "source": [
    "resultado_suma_dos_numeros = suma_dos_numeros(3,4)\n",
    "print(resultado_suma_dos_numeros)"
   ]
  },
  {
   "cell_type": "markdown",
   "id": "c3a0d2cd",
   "metadata": {},
   "source": [
    "### Lectura de datos en archivo CSV"
   ]
  },
  {
   "cell_type": "code",
   "execution_count": 27,
   "id": "c4366884",
   "metadata": {
    "vscode": {
     "languageId": "r"
    }
   },
   "outputs": [],
   "source": [
    "datos = read.csv(\"houses.csv\")"
   ]
  },
  {
   "cell_type": "code",
   "execution_count": 28,
   "id": "cdc17a71",
   "metadata": {
    "vscode": {
     "languageId": "r"
    }
   },
   "outputs": [
    {
     "data": {
      "text/html": [
       "<table class=\"dataframe\">\n",
       "<caption>A data.frame: 6 × 7</caption>\n",
       "<thead>\n",
       "\t<tr><th></th><th scope=col>Avg..Area.Income</th><th scope=col>Avg..Area.House.Age</th><th scope=col>Avg..Area.Number.of.Rooms</th><th scope=col>Avg..Area.Number.of.Bedrooms</th><th scope=col>Area.Population</th><th scope=col>Price</th><th scope=col>Address</th></tr>\n",
       "\t<tr><th></th><th scope=col>&lt;dbl&gt;</th><th scope=col>&lt;dbl&gt;</th><th scope=col>&lt;dbl&gt;</th><th scope=col>&lt;dbl&gt;</th><th scope=col>&lt;dbl&gt;</th><th scope=col>&lt;dbl&gt;</th><th scope=col>&lt;chr&gt;</th></tr>\n",
       "</thead>\n",
       "<tbody>\n",
       "\t<tr><th scope=row>1</th><td>79545.46</td><td>5.682861</td><td>7.009188</td><td>4.09</td><td>23086.80</td><td>1059033.6</td><td>208 Michael Ferry Apt. 674\n",
       "Laurabury, NE 37010-5101</td></tr>\n",
       "\t<tr><th scope=row>2</th><td>79248.64</td><td>6.002900</td><td>6.730821</td><td>3.09</td><td>40173.07</td><td>1505890.9</td><td>188 Johnson Views Suite 079\n",
       "Lake Kathleen, CA 48958</td></tr>\n",
       "\t<tr><th scope=row>3</th><td>61287.07</td><td>5.865890</td><td>8.512727</td><td>5.13</td><td>36882.16</td><td>1058988.0</td><td>9127 Elizabeth Stravenue\n",
       "Danieltown, WI 06482-3489 </td></tr>\n",
       "\t<tr><th scope=row>4</th><td>63345.24</td><td>7.188236</td><td>5.586729</td><td>3.26</td><td>34310.24</td><td>1260616.8</td><td>USS Barnett\n",
       "FPO AP 44820                           </td></tr>\n",
       "\t<tr><th scope=row>5</th><td>59982.20</td><td>5.040555</td><td>7.839388</td><td>4.23</td><td>26354.11</td><td> 630943.5</td><td>USNS Raymond\n",
       "FPO AE 09386                          </td></tr>\n",
       "\t<tr><th scope=row>6</th><td>80175.75</td><td>4.988408</td><td>6.104512</td><td>4.04</td><td>26748.43</td><td>1068138.1</td><td>06039 Jennifer Islands Apt. 443\n",
       "Tracyport, KS 16077</td></tr>\n",
       "</tbody>\n",
       "</table>\n"
      ],
      "text/latex": [
       "A data.frame: 6 × 7\n",
       "\\begin{tabular}{r|lllllll}\n",
       "  & Avg..Area.Income & Avg..Area.House.Age & Avg..Area.Number.of.Rooms & Avg..Area.Number.of.Bedrooms & Area.Population & Price & Address\\\\\n",
       "  & <dbl> & <dbl> & <dbl> & <dbl> & <dbl> & <dbl> & <chr>\\\\\n",
       "\\hline\n",
       "\t1 & 79545.46 & 5.682861 & 7.009188 & 4.09 & 23086.80 & 1059033.6 & 208 Michael Ferry Apt. 674\n",
       "Laurabury, NE 37010-5101\\\\\n",
       "\t2 & 79248.64 & 6.002900 & 6.730821 & 3.09 & 40173.07 & 1505890.9 & 188 Johnson Views Suite 079\n",
       "Lake Kathleen, CA 48958\\\\\n",
       "\t3 & 61287.07 & 5.865890 & 8.512727 & 5.13 & 36882.16 & 1058988.0 & 9127 Elizabeth Stravenue\n",
       "Danieltown, WI 06482-3489 \\\\\n",
       "\t4 & 63345.24 & 7.188236 & 5.586729 & 3.26 & 34310.24 & 1260616.8 & USS Barnett\n",
       "FPO AP 44820                           \\\\\n",
       "\t5 & 59982.20 & 5.040555 & 7.839388 & 4.23 & 26354.11 &  630943.5 & USNS Raymond\n",
       "FPO AE 09386                          \\\\\n",
       "\t6 & 80175.75 & 4.988408 & 6.104512 & 4.04 & 26748.43 & 1068138.1 & 06039 Jennifer Islands Apt. 443\n",
       "Tracyport, KS 16077\\\\\n",
       "\\end{tabular}\n"
      ],
      "text/markdown": [
       "\n",
       "A data.frame: 6 × 7\n",
       "\n",
       "| <!--/--> | Avg..Area.Income &lt;dbl&gt; | Avg..Area.House.Age &lt;dbl&gt; | Avg..Area.Number.of.Rooms &lt;dbl&gt; | Avg..Area.Number.of.Bedrooms &lt;dbl&gt; | Area.Population &lt;dbl&gt; | Price &lt;dbl&gt; | Address &lt;chr&gt; |\n",
       "|---|---|---|---|---|---|---|---|\n",
       "| 1 | 79545.46 | 5.682861 | 7.009188 | 4.09 | 23086.80 | 1059033.6 | 208 Michael Ferry Apt. 674\n",
       "Laurabury, NE 37010-5101 |\n",
       "| 2 | 79248.64 | 6.002900 | 6.730821 | 3.09 | 40173.07 | 1505890.9 | 188 Johnson Views Suite 079\n",
       "Lake Kathleen, CA 48958 |\n",
       "| 3 | 61287.07 | 5.865890 | 8.512727 | 5.13 | 36882.16 | 1058988.0 | 9127 Elizabeth Stravenue\n",
       "Danieltown, WI 06482-3489  |\n",
       "| 4 | 63345.24 | 7.188236 | 5.586729 | 3.26 | 34310.24 | 1260616.8 | USS Barnett\n",
       "FPO AP 44820                            |\n",
       "| 5 | 59982.20 | 5.040555 | 7.839388 | 4.23 | 26354.11 |  630943.5 | USNS Raymond\n",
       "FPO AE 09386                           |\n",
       "| 6 | 80175.75 | 4.988408 | 6.104512 | 4.04 | 26748.43 | 1068138.1 | 06039 Jennifer Islands Apt. 443\n",
       "Tracyport, KS 16077 |\n",
       "\n"
      ],
      "text/plain": [
       "  Avg..Area.Income Avg..Area.House.Age Avg..Area.Number.of.Rooms\n",
       "1 79545.46         5.682861            7.009188                 \n",
       "2 79248.64         6.002900            6.730821                 \n",
       "3 61287.07         5.865890            8.512727                 \n",
       "4 63345.24         7.188236            5.586729                 \n",
       "5 59982.20         5.040555            7.839388                 \n",
       "6 80175.75         4.988408            6.104512                 \n",
       "  Avg..Area.Number.of.Bedrooms Area.Population Price    \n",
       "1 4.09                         23086.80        1059033.6\n",
       "2 3.09                         40173.07        1505890.9\n",
       "3 5.13                         36882.16        1058988.0\n",
       "4 3.26                         34310.24        1260616.8\n",
       "5 4.23                         26354.11         630943.5\n",
       "6 4.04                         26748.43        1068138.1\n",
       "  Address                                             \n",
       "1 208 Michael Ferry Apt. 674\\nLaurabury, NE 37010-5101\n",
       "2 188 Johnson Views Suite 079\\nLake Kathleen, CA 48958\n",
       "3 9127 Elizabeth Stravenue\\nDanieltown, WI 06482-3489 \n",
       "4 USS Barnett\\nFPO AP 44820                           \n",
       "5 USNS Raymond\\nFPO AE 09386                          \n",
       "6 06039 Jennifer Islands Apt. 443\\nTracyport, KS 16077"
      ]
     },
     "metadata": {},
     "output_type": "display_data"
    }
   ],
   "source": [
    "head(datos)"
   ]
  },
  {
   "cell_type": "code",
   "execution_count": 30,
   "id": "524b1132",
   "metadata": {
    "vscode": {
     "languageId": "r"
    }
   },
   "outputs": [
    {
     "data": {
      "text/plain": [
       " Avg..Area.Income Avg..Area.House.Age Avg..Area.Number.of.Rooms\n",
       " Min.   : 17797   Min.   :2.644       Min.   : 3.236           \n",
       " 1st Qu.: 61481   1st Qu.:5.322       1st Qu.: 6.299           \n",
       " Median : 68804   Median :5.970       Median : 7.003           \n",
       " Mean   : 68583   Mean   :5.977       Mean   : 6.988           \n",
       " 3rd Qu.: 75783   3rd Qu.:6.651       3rd Qu.: 7.666           \n",
       " Max.   :107702   Max.   :9.519       Max.   :10.760           \n",
       " Avg..Area.Number.of.Bedrooms Area.Population       Price        \n",
       " Min.   :2.000                Min.   :  172.6   Min.   :  15939  \n",
       " 1st Qu.:3.140                1st Qu.:29403.9   1st Qu.: 997577  \n",
       " Median :4.050                Median :36199.4   Median :1232669  \n",
       " Mean   :3.981                Mean   :36163.5   Mean   :1232073  \n",
       " 3rd Qu.:4.490                3rd Qu.:42861.3   3rd Qu.:1471210  \n",
       " Max.   :6.500                Max.   :69621.7   Max.   :2469066  \n",
       "   Address         \n",
       " Length:5000       \n",
       " Class :character  \n",
       " Mode  :character  \n",
       "                   \n",
       "                   \n",
       "                   "
      ]
     },
     "metadata": {},
     "output_type": "display_data"
    }
   ],
   "source": [
    "summary(datos)"
   ]
  },
  {
   "cell_type": "code",
   "execution_count": 31,
   "metadata": {
    "vscode": {
     "languageId": "r"
    }
   },
   "outputs": [],
   "source": [
    "media_precio <- mean(datos$Price) # datos['Price']"
   ]
  },
  {
   "cell_type": "code",
   "execution_count": 32,
   "metadata": {
    "vscode": {
     "languageId": "r"
    }
   },
   "outputs": [
    {
     "data": {
      "text/html": [
       "1232072.65414236"
      ],
      "text/latex": [
       "1232072.65414236"
      ],
      "text/markdown": [
       "1232072.65414236"
      ],
      "text/plain": [
       "[1] 1232073"
      ]
     },
     "metadata": {},
     "output_type": "display_data"
    }
   ],
   "source": [
    "media_precio"
   ]
  },
  {
   "cell_type": "code",
   "execution_count": 33,
   "id": "671570a9",
   "metadata": {
    "vscode": {
     "languageId": "r"
    }
   },
   "outputs": [],
   "source": [
    "mediana_precio <- median(datos$Price)"
   ]
  },
  {
   "cell_type": "code",
   "execution_count": 34,
   "metadata": {
    "vscode": {
     "languageId": "r"
    }
   },
   "outputs": [
    {
     "data": {
      "text/html": [
       "1232669.37796579"
      ],
      "text/latex": [
       "1232669.37796579"
      ],
      "text/markdown": [
       "1232669.37796579"
      ],
      "text/plain": [
       "[1] 1232669"
      ]
     },
     "metadata": {},
     "output_type": "display_data"
    }
   ],
   "source": [
    "mediana_precio"
   ]
  },
  {
   "cell_type": "code",
   "execution_count": 35,
   "metadata": {
    "vscode": {
     "languageId": "r"
    }
   },
   "outputs": [],
   "source": [
    "sd_precio <- sd(datos$Price)"
   ]
  },
  {
   "cell_type": "code",
   "execution_count": 36,
   "metadata": {
    "vscode": {
     "languageId": "r"
    }
   },
   "outputs": [
    {
     "data": {
      "text/html": [
       "353117.626581061"
      ],
      "text/latex": [
       "353117.626581061"
      ],
      "text/markdown": [
       "353117.626581061"
      ],
      "text/plain": [
       "[1] 353117.6"
      ]
     },
     "metadata": {},
     "output_type": "display_data"
    }
   ],
   "source": [
    "sd_precio"
   ]
  },
  {
   "cell_type": "code",
   "execution_count": 37,
   "id": "a4b3d6ce",
   "metadata": {
    "vscode": {
     "languageId": "r"
    }
   },
   "outputs": [
    {
     "data": {
      "image/png": "[encoded data removed]",
      "text/plain": [
       "Plot with title “Histograma de los precios de las casas”"
      ]
     },
     "metadata": {
      "image/png": {
       "height": 420,
       "width": 420
      }
     },
     "output_type": "display_data"
    }
   ],
   "source": [
    "hist(datos$Price, main=\"Histograma de los precios de las casas\", xlab=\"Precio\", col=\"blue\", borde=\"black\")"
   ]
  },
  {
   "cell_type": "markdown",
   "id": "83dc4d7a",
   "metadata": {},
   "source": [
    "### EJERCICIO"
   ]
  },
  {
   "cell_type": "code",
   "execution_count": 38,
   "id": "b208b0ee",
   "metadata": {
    "vscode": {
     "languageId": "r"
    }
   },
   "outputs": [],
   "source": [
    "datos1 = read.csv(\"data/sunflares.csv\")"
   ]
  },
  {
   "cell_type": "code",
   "execution_count": 40,
   "id": "e143defe",
   "metadata": {
    "vscode": {
     "languageId": "r"
    }
   },
   "outputs": [
    {
     "data": {
      "text/html": [
       "<table class=\"dataframe\">\n",
       "<caption>A data.frame: 6 × 18</caption>\n",
       "<thead>\n",
       "\t<tr><th></th><th scope=col>flare</th><th scope=col>start.date</th><th scope=col>start.time</th><th scope=col>peak</th><th scope=col>end</th><th scope=col>duration.s</th><th scope=col>peak.c.s</th><th scope=col>total.counts</th><th scope=col>energy.kev</th><th scope=col>x.pos.asec</th><th scope=col>y.pos.asec</th><th scope=col>radial</th><th scope=col>active.region.ar</th><th scope=col>flag.1</th><th scope=col>flag.2</th><th scope=col>flag.3</th><th scope=col>flag.4</th><th scope=col>flag.5</th></tr>\n",
       "\t<tr><th></th><th scope=col>&lt;int&gt;</th><th scope=col>&lt;chr&gt;</th><th scope=col>&lt;chr&gt;</th><th scope=col>&lt;chr&gt;</th><th scope=col>&lt;chr&gt;</th><th scope=col>&lt;int&gt;</th><th scope=col>&lt;int&gt;</th><th scope=col>&lt;int&gt;</th><th scope=col>&lt;chr&gt;</th><th scope=col>&lt;int&gt;</th><th scope=col>&lt;int&gt;</th><th scope=col>&lt;int&gt;</th><th scope=col>&lt;int&gt;</th><th scope=col>&lt;chr&gt;</th><th scope=col>&lt;chr&gt;</th><th scope=col>&lt;chr&gt;</th><th scope=col>&lt;chr&gt;</th><th scope=col>&lt;chr&gt;</th></tr>\n",
       "</thead>\n",
       "<tbody>\n",
       "\t<tr><th scope=row>1</th><td>2021213</td><td>2002-02-12</td><td>21:29:56</td><td>21:33:38</td><td>21:41:48</td><td>712</td><td>136</td><td>167304</td><td>12-25</td><td> 592</td><td>-358</td><td>692</td><td>   0</td><td>A1</td><td>P1</td><td>  </td><td>  </td><td>  </td></tr>\n",
       "\t<tr><th scope=row>2</th><td>2021228</td><td>2002-02-12</td><td>21:44:08</td><td>21:45:06</td><td>21:48:56</td><td>288</td><td>  7</td><td>  9504</td><td>6-12 </td><td> 604</td><td>-341</td><td>694</td><td>9811</td><td>A1</td><td>P1</td><td>PE</td><td>Q1</td><td>  </td></tr>\n",
       "\t<tr><th scope=row>3</th><td>2021332</td><td>2002-02-13</td><td>00:53:24</td><td>00:54:54</td><td>00:57:00</td><td>216</td><td> 15</td><td> 11448</td><td>6-12 </td><td>-310</td><td> 375</td><td>487</td><td>9825</td><td>A1</td><td>P1</td><td>  </td><td>  </td><td>  </td></tr>\n",
       "\t<tr><th scope=row>4</th><td>2021308</td><td>2002-02-13</td><td>04:22:52</td><td>04:23:50</td><td>04:26:56</td><td>244</td><td> 20</td><td> 17400</td><td>12-25</td><td>-277</td><td> 378</td><td>469</td><td>9822</td><td>A1</td><td>P1</td><td>  </td><td>  </td><td>  </td></tr>\n",
       "\t<tr><th scope=row>5</th><td>2021310</td><td>2002-02-13</td><td>07:03:52</td><td>07:05:14</td><td>07:07:48</td><td>236</td><td>336</td><td>313392</td><td>25-50</td><td>-272</td><td> 390</td><td>476</td><td>9825</td><td>A1</td><td>GS</td><td>P1</td><td>PE</td><td>Q2</td></tr>\n",
       "\t<tr><th scope=row>6</th><td>2021353</td><td>2002-02-13</td><td>07:07:48</td><td>07:09:14</td><td>07:20:56</td><td>788</td><td>272</td><td>524304</td><td>12-25</td><td>-271</td><td> 389</td><td>474</td><td>9825</td><td>A1</td><td>P1</td><td>  </td><td>  </td><td>  </td></tr>\n",
       "</tbody>\n",
       "</table>\n"
      ],
      "text/latex": [
       "A data.frame: 6 × 18\n",
       "\\begin{tabular}{r|llllllllllllllllll}\n",
       "  & flare & start.date & start.time & peak & end & duration.s & peak.c.s & total.counts & energy.kev & x.pos.asec & y.pos.asec & radial & active.region.ar & flag.1 & flag.2 & flag.3 & flag.4 & flag.5\\\\\n",
       "  & <int> & <chr> & <chr> & <chr> & <chr> & <int> & <int> & <int> & <chr> & <int> & <int> & <int> & <int> & <chr> & <chr> & <chr> & <chr> & <chr>\\\\\n",
       "\\hline\n",
       "\t1 & 2021213 & 2002-02-12 & 21:29:56 & 21:33:38 & 21:41:48 & 712 & 136 & 167304 & 12-25 &  592 & -358 & 692 &    0 & A1 & P1 &    &    &   \\\\\n",
       "\t2 & 2021228 & 2002-02-12 & 21:44:08 & 21:45:06 & 21:48:56 & 288 &   7 &   9504 & 6-12  &  604 & -341 & 694 & 9811 & A1 & P1 & PE & Q1 &   \\\\\n",
       "\t3 & 2021332 & 2002-02-13 & 00:53:24 & 00:54:54 & 00:57:00 & 216 &  15 &  11448 & 6-12  & -310 &  375 & 487 & 9825 & A1 & P1 &    &    &   \\\\\n",
       "\t4 & 2021308 & 2002-02-13 & 04:22:52 & 04:23:50 & 04:26:56 & 244 &  20 &  17400 & 12-25 & -277 &  378 & 469 & 9822 & A1 & P1 &    &    &   \\\\\n",
       "\t5 & 2021310 & 2002-02-13 & 07:03:52 & 07:05:14 & 07:07:48 & 236 & 336 & 313392 & 25-50 & -272 &  390 & 476 & 9825 & A1 & GS & P1 & PE & Q2\\\\\n",
       "\t6 & 2021353 & 2002-02-13 & 07:07:48 & 07:09:14 & 07:20:56 & 788 & 272 & 524304 & 12-25 & -271 &  389 & 474 & 9825 & A1 & P1 &    &    &   \\\\\n",
       "\\end{tabular}\n"
      ],
      "text/markdown": [
       "\n",
       "A data.frame: 6 × 18\n",
       "\n",
       "| <!--/--> | flare &lt;int&gt; | start.date &lt;chr&gt; | start.time &lt;chr&gt; | peak &lt;chr&gt; | end &lt;chr&gt; | duration.s &lt;int&gt; | peak.c.s &lt;int&gt; | total.counts &lt;int&gt; | energy.kev &lt;chr&gt; | x.pos.asec &lt;int&gt; | y.pos.asec &lt;int&gt; | radial &lt;int&gt; | active.region.ar &lt;int&gt; | flag.1 &lt;chr&gt; | flag.2 &lt;chr&gt; | flag.3 &lt;chr&gt; | flag.4 &lt;chr&gt; | flag.5 &lt;chr&gt; |\n",
       "|---|---|---|---|---|---|---|---|---|---|---|---|---|---|---|---|---|---|---|\n",
       "| 1 | 2021213 | 2002-02-12 | 21:29:56 | 21:33:38 | 21:41:48 | 712 | 136 | 167304 | 12-25 |  592 | -358 | 692 |    0 | A1 | P1 | <!----> | <!----> | <!----> |\n",
       "| 2 | 2021228 | 2002-02-12 | 21:44:08 | 21:45:06 | 21:48:56 | 288 |   7 |   9504 | 6-12  |  604 | -341 | 694 | 9811 | A1 | P1 | PE | Q1 | <!----> |\n",
       "| 3 | 2021332 | 2002-02-13 | 00:53:24 | 00:54:54 | 00:57:00 | 216 |  15 |  11448 | 6-12  | -310 |  375 | 487 | 9825 | A1 | P1 | <!----> | <!----> | <!----> |\n",
       "| 4 | 2021308 | 2002-02-13 | 04:22:52 | 04:23:50 | 04:26:56 | 244 |  20 |  17400 | 12-25 | -277 |  378 | 469 | 9822 | A1 | P1 | <!----> | <!----> | <!----> |\n",
       "| 5 | 2021310 | 2002-02-13 | 07:03:52 | 07:05:14 | 07:07:48 | 236 | 336 | 313392 | 25-50 | -272 |  390 | 476 | 9825 | A1 | GS | P1 | PE | Q2 |\n",
       "| 6 | 2021353 | 2002-02-13 | 07:07:48 | 07:09:14 | 07:20:56 | 788 | 272 | 524304 | 12-25 | -271 |  389 | 474 | 9825 | A1 | P1 | <!----> | <!----> | <!----> |\n",
       "\n"
      ],
      "text/plain": [
       "  flare   start.date start.time peak     end      duration.s peak.c.s\n",
       "1 2021213 2002-02-12 21:29:56   21:33:38 21:41:48 712        136     \n",
       "2 2021228 2002-02-12 21:44:08   21:45:06 21:48:56 288          7     \n",
       "3 2021332 2002-02-13 00:53:24   00:54:54 00:57:00 216         15     \n",
       "4 2021308 2002-02-13 04:22:52   04:23:50 04:26:56 244         20     \n",
       "5 2021310 2002-02-13 07:03:52   07:05:14 07:07:48 236        336     \n",
       "6 2021353 2002-02-13 07:07:48   07:09:14 07:20:56 788        272     \n",
       "  total.counts energy.kev x.pos.asec y.pos.asec radial active.region.ar flag.1\n",
       "1 167304       12-25       592       -358       692       0             A1    \n",
       "2   9504       6-12        604       -341       694    9811             A1    \n",
       "3  11448       6-12       -310        375       487    9825             A1    \n",
       "4  17400       12-25      -277        378       469    9822             A1    \n",
       "5 313392       25-50      -272        390       476    9825             A1    \n",
       "6 524304       12-25      -271        389       474    9825             A1    \n",
       "  flag.2 flag.3 flag.4 flag.5\n",
       "1 P1                         \n",
       "2 P1     PE     Q1           \n",
       "3 P1                         \n",
       "4 P1                         \n",
       "5 GS     P1     PE     Q2    \n",
       "6 P1                         "
      ]
     },
     "metadata": {},
     "output_type": "display_data"
    }
   ],
   "source": [
    "head(datos1)"
   ]
  },
  {
   "cell_type": "code",
   "execution_count": 42,
   "id": "048c9b9c",
   "metadata": {
    "vscode": {
     "languageId": "r"
    }
   },
   "outputs": [
    {
     "data": {
      "text/plain": [
       "     flare            start.date         start.time            peak          \n",
       " Min.   :  2021213   Length:113942      Length:113942      Length:113942     \n",
       " 1st Qu.:  4110734   Class :character   Class :character   Class :character  \n",
       " Median : 11120224   Mode  :character   Mode  :character   Mode  :character  \n",
       " Mean   : 10864592                                                           \n",
       " 3rd Qu.: 14030130                                                           \n",
       " Max.   :141216108                                                           \n",
       "     end              duration.s        peak.c.s         total.counts      \n",
       " Length:113942      Min.   :   8.0   Min.   :     0.0   Min.   :        8  \n",
       " Class :character   1st Qu.: 212.0   1st Qu.:    28.0   1st Qu.:    22920  \n",
       " Mode  :character   Median : 364.0   Median :    53.0   Median :    58574  \n",
       "                    Mean   : 493.1   Mean   :   212.3   Mean   :   377201  \n",
       "                    3rd Qu.: 628.0   3rd Qu.:   144.0   3rd Qu.:   179442  \n",
       "                    Max.   :4444.0   Max.   :113156.0   Max.   :435550080  \n",
       "  energy.kev          x.pos.asec           y.pos.asec            radial       \n",
       " Length:113942      Min.   :-10012.000   Min.   :-10005.00   Min.   :    0.0  \n",
       " Class :character   1st Qu.:  -704.000   1st Qu.:  -249.00   1st Qu.:  469.0  \n",
       " Mode  :character   Median :     0.000   Median :   -75.00   Median :  759.0  \n",
       "                    Mean   :    -9.752   Mean   :   -43.13   Mean   :  689.5  \n",
       "                    3rd Qu.:   706.000   3rd Qu.:   198.00   3rd Qu.:  946.0  \n",
       "                    Max.   :  1002.000   Max.   :  1012.00   Max.   :14154.0  \n",
       " active.region.ar    flag.1             flag.2             flag.3         \n",
       " Min.   :   0.0   Length:113942      Length:113942      Length:113942     \n",
       " 1st Qu.:   0.0   Class :character   Class :character   Class :character  \n",
       " Median : 687.0   Mode  :character   Mode  :character   Mode  :character  \n",
       " Mean   : 979.9                                                           \n",
       " 3rd Qu.:1543.0                                                           \n",
       " Max.   :9999.0                                                           \n",
       "    flag.4             flag.5         \n",
       " Length:113942      Length:113942     \n",
       " Class :character   Class :character  \n",
       " Mode  :character   Mode  :character  \n",
       "                                      \n",
       "                                      \n",
       "                                      "
      ]
     },
     "metadata": {},
     "output_type": "display_data"
    }
   ],
   "source": [
    "summary(datos1)"
   ]
  },
  {
   "cell_type": "code",
   "execution_count": 43,
   "id": "a275113f",
   "metadata": {
    "vscode": {
     "languageId": "r"
    }
   },
   "outputs": [],
   "source": [
    "media_duracion = mean(datos1$duration.s)"
   ]
  },
  {
   "cell_type": "code",
   "execution_count": 44,
   "metadata": {
    "vscode": {
     "languageId": "r"
    }
   },
   "outputs": [
    {
     "data": {
      "text/html": [
       "493.051728072177"
      ],
      "text/latex": [
       "493.051728072177"
      ],
      "text/markdown": [
       "493.051728072177"
      ],
      "text/plain": [
       "[1] 493.0517"
      ]
     },
     "metadata": {},
     "output_type": "display_data"
    }
   ],
   "source": [
    "media_duracion"
   ]
  },
  {
   "cell_type": "code",
   "execution_count": 45,
   "metadata": {
    "vscode": {
     "languageId": "r"
    }
   },
   "outputs": [],
   "source": [
    "mediana_duracion <- median(datos1$duration.s)"
   ]
  },
  {
   "cell_type": "code",
   "execution_count": 46,
   "id": "28355ad7",
   "metadata": {
    "vscode": {
     "languageId": "r"
    }
   },
   "outputs": [
    {
     "data": {
      "text/html": [
       "364"
      ],
      "text/latex": [
       "364"
      ],
      "text/markdown": [
       "364"
      ],
      "text/plain": [
       "[1] 364"
      ]
     },
     "metadata": {},
     "output_type": "display_data"
    }
   ],
   "source": [
    "mediana_duracion"
   ]
  },
  {
   "cell_type": "code",
   "execution_count": 47,
   "metadata": {
    "vscode": {
     "languageId": "r"
    }
   },
   "outputs": [],
   "source": [
    "sd_duracion = sd(datos1$duration.s)"
   ]
  },
  {
   "cell_type": "code",
   "execution_count": 48,
   "metadata": {
    "vscode": {
     "languageId": "r"
    }
   },
   "outputs": [
    {
     "data": {
      "text/html": [
       "433.389295155393"
      ],
      "text/latex": [
       "433.389295155393"
      ],
      "text/markdown": [
       "433.389295155393"
      ],
      "text/plain": [
       "[1] 433.3893"
      ]
     },
     "metadata": {},
     "output_type": "display_data"
    }
   ],
   "source": [
    "sd_duracion"
   ]
  },
  {
   "cell_type": "code",
   "execution_count": 50,
   "id": "0a9c6f97",
   "metadata": {
    "vscode": {
     "languageId": "r"
    }
   },
   "outputs": [
    {
     "data": {
      "image/png": "[encoded data removed]",
      "text/plain": [
       "Plot with title “Histograma de de duracion de evento”"
      ]
     },
     "metadata": {
      "image/png": {
       "height": 420,
       "width": 420
      }
     },
     "output_type": "display_data"
    }
   ],
   "source": [
    "hist(datos1$duration.s, main=\"Histograma de de duracion de evento\", xlab=\"Duracion\", col=\"red\", borde=\"black\")"
   ]
  },
  {
   "cell_type": "code",
   "execution_count": null,
   "id": "a429ff9b",
   "metadata": {
    "vscode": {
     "languageId": "r"
    }
   },
   "outputs": [],
   "source": []
  }
 ],
 "metadata": {
  "kernelspec": {
   "display_name": "R",
   "language": "R",
   "name": "ir"
  },
  "language_info": {
   "codemirror_mode": "r",
   "file_extension": ".r",
   "mimetype": "text/x-r-source",
   "name": "R",
   "pygments_lexer": "r",
   "version": "4.3.1"
  }
 },
 "nbformat": 4,
 "nbformat_minor": 5
}
